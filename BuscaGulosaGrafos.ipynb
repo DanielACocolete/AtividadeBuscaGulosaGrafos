{
  "nbformat": 4,
  "nbformat_minor": 0,
  "metadata": {
    "colab": {
      "provenance": [],
      "authorship_tag": "ABX9TyPOKGrqunf01r8l20SzNcS+",
      "include_colab_link": true
    },
    "kernelspec": {
      "name": "python3",
      "display_name": "Python 3"
    },
    "language_info": {
      "name": "python"
    }
  },
  "cells": [
    {
      "cell_type": "markdown",
      "metadata": {
        "id": "view-in-github",
        "colab_type": "text"
      },
      "source": [
        "<a href=\"https://colab.research.google.com/github/DanielACocolete/AtividadeBuscaGulosaGrafos/blob/main/BuscaGulosaGrafos.ipynb\" target=\"_parent\"><img src=\"https://colab.research.google.com/assets/colab-badge.svg\" alt=\"Open In Colab\"/></a>"
      ]
    },
    {
      "cell_type": "code",
      "execution_count": 1,
      "metadata": {
        "id": "6BrIvVNIHjbs"
      },
      "outputs": [],
      "source": [
        "import heapq"
      ]
    },
    {
      "cell_type": "code",
      "source": [
        "def greedy_search(graph, start, goal, attractions):\n",
        "    visited = set()\n",
        "    priority_queue = [(0, start)]\n",
        "    while priority_queue:\n",
        "        cost, current_node = heapq.heappop(priority_queue)\n",
        "        if current_node == goal:\n",
        "            return cost\n",
        "        if current_node not in visited:\n",
        "            visited.add(current_node)\n",
        "            for neighbor, neighbor_cost in graph[current_node].items():\n",
        "                num_attractions = len(attractions.get(neighbor, []))\n",
        "                heapq.heappush(priority_queue, (cost + neighbor_cost + num_attractions, neighbor))\n",
        "    return float('inf')"
      ],
      "metadata": {
        "id": "BsWgNzFcHmG1"
      },
      "execution_count": 2,
      "outputs": []
    },
    {
      "cell_type": "code",
      "source": [
        "grafo_entregas = {\n",
        "    'A': {'B': 10, 'C': 20, 'D': 15},\n",
        "    'B': {'A': 10, 'C': 25, 'E': 30},\n",
        "    'C': {'A': 20, 'B': 25, 'D': 35, 'E': 40},\n",
        "    'D': {'A': 15, 'C': 35, 'E': 45},\n",
        "    'E': {'B': 30, 'C': 40, 'D': 45}\n",
        "}"
      ],
      "metadata": {
        "id": "fp24ahy-Hoa4"
      },
      "execution_count": 3,
      "outputs": []
    },
    {
      "cell_type": "code",
      "source": [
        "atrações = {\n",
        "    'A': ['Clube Aquático'],\n",
        "    'B': ['Show da Turma de Mônica'],\n",
        "    'C': ['Apresentação de um Coral', 'Museu de Arte'],\n",
        "    'D': [],\n",
        "    'E': ['Parque de Diversões']\n",
        "}"
      ],
      "metadata": {
        "id": "CVjcxtFXHqJ7"
      },
      "execution_count": 4,
      "outputs": []
    },
    {
      "cell_type": "code",
      "source": [
        "start_node = 'B'\n",
        "goal_node = 'C'\n",
        "\n",
        "custo_caminho_mais_curto = greedy_search(grafo_entregas, start_node, goal_node, atrações)\n",
        "print(\"O custo do caminho mais curto de\", start_node, \"para\", goal_node, \"é:\", custo_caminho_mais_curto)"
      ],
      "metadata": {
        "colab": {
          "base_uri": "https://localhost:8080/"
        },
        "id": "cMlBA4OtHsxm",
        "outputId": "6e59bc0f-34c0-4963-dc57-1bce60285914"
      },
      "execution_count": 7,
      "outputs": [
        {
          "output_type": "stream",
          "name": "stdout",
          "text": [
            "O custo do caminho mais curto de B para C é: 27\n"
          ]
        }
      ]
    }
  ]
}